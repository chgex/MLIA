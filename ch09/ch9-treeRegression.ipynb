{
 "metadata": {
  "language_info": {
   "codemirror_mode": {
    "name": "ipython",
    "version": 3
   },
   "file_extension": ".py",
   "mimetype": "text/x-python",
   "name": "python",
   "nbconvert_exporter": "python",
   "pygments_lexer": "ipython3",
   "version": "3.8.5-final"
  },
  "orig_nbformat": 2,
  "kernelspec": {
   "name": "python3",
   "display_name": "Python 3",
   "language": "python"
  }
 },
 "nbformat": 4,
 "nbformat_minor": 2,
 "cells": [
  {
   "source": [
    "# ch9 树回归\n",
    "\n",
    "## CART(classification and regression trees,分类回归树)\n",
    "\n",
    "CART算法只做二元切分，所以树的结构固定：树包含左右键，\n",
    "\n",
    "可以存储另一棵子树或者单个值。字典包含特征和特征值这两个键，\n",
    "\n",
    "给出切分算法所有的特征和特征值。\n",
    "\n",
    "CART算法实现"
   ],
   "cell_type": "markdown",
   "metadata": {}
  },
  {
   "cell_type": "code",
   "execution_count": 1,
   "metadata": {},
   "outputs": [],
   "source": [
    "import numpy as np        "
   ]
  },
  {
   "cell_type": "code",
   "execution_count": 2,
   "metadata": {},
   "outputs": [],
   "source": [
    "def loadData(filename):\n",
    "    # 加载数据\n",
    "    dataArr=[]\n",
    "    fr=open(filename)\n",
    "    for line in fr.readlines():\n",
    "        curLine=line.strip().split('\\t')\n",
    "        # 将数据映射为浮点型\n",
    "        fltLine=list(map(float,curLine))\n",
    "        dataArr.append(fltLine)\n",
    "    return np.array(dataArr)"
   ]
  },
  {
   "cell_type": "code",
   "execution_count": 3,
   "metadata": {},
   "outputs": [],
   "source": [
    "def binSplitDataSet(dataArr,dim,value):\n",
    "    # 按第dim列的value值，将数据集划分为两部分\n",
    "    # index\n",
    "    idx1=np.nonzero(dataArr[:,dim]>value)[0]\n",
    "    arr1=dataArr[idx1,:]\n",
    "    # print(\"arr1.shape\",arr1.shape)\n",
    "    # index\n",
    "    idx2=np.nonzero(dataArr[:,dim]<=value)[0]\n",
    "    arr2=dataArr[idx2,:]\n",
    "    # print(\"arr2.shape\",arr2.shape)\n",
    "    return arr1,arr2"
   ]
  },
  {
   "source": [
    "按照误差计算方式，找到数据集上最佳二元切分方式，\n",
    "\n",
    "如果无法划分，即到了叶结点，则返回相应的值(这里是返回实际样本值的均值)。\n",
    "\n",
    "**回归树的切分函数：**"
   ],
   "cell_type": "markdown",
   "metadata": {}
  },
  {
   "cell_type": "code",
   "execution_count": 4,
   "metadata": {},
   "outputs": [],
   "source": [
    "def regLeaf(dataArr):\n",
    "    # 均值\n",
    "    return np.mean(dataArr[:,-1])"
   ]
  },
  {
   "cell_type": "code",
   "execution_count": 5,
   "metadata": {},
   "outputs": [],
   "source": [
    "def regErr(dataArr):\n",
    "    # 总的方差\n",
    "    return np.var(dataArr[:,-1]) * dataArr.shape[0] "
   ]
  },
  {
   "cell_type": "code",
   "execution_count": 6,
   "metadata": {},
   "outputs": [],
   "source": [
    "def chooseBestSplit(dataArr,leafType=regLeaf,errType=regErr,opt=(1,4)):\n",
    "    # 如果找到好的切分数据集的方式，则返回特征编号和特征值，\n",
    "    # 如果找不到好的二元切分方式，则返回None，并产生一个叶节点，\n",
    "    # 叶节点的值，也返回None\n",
    "    # opt(tolErr,tolNum)为用户指定的，用于控制参数的停止时机,\n",
    "    # tolErr是容许的误差下降值,\n",
    "    # tolNum是切分的最少样本数。\n",
    "    tolErr,tolNum=opt\n",
    "    # 如果待划分的特征都相同，则返回None，并生成叶节点(叶节点返回的是均值)\n",
    "    lst=dataArr[:,-1].T.tolist()\n",
    "    if len(set(lst))==1:\n",
    "        print(\"leaf node\")\n",
    "        return None,leafType(dataArr)\n",
    "    m,n=dataArr.shape\n",
    "    E=errType(dataArr)\n",
    "    # 最优划分方式下的方差，特征列编号及其特征值\n",
    "    bestErr=np.inf;bestIndex=0;bestValue=0\n",
    "    for idx in range(n-1):\n",
    "        for val in set(dataArr[:,idx]):\n",
    "            arr1,arr2=binSplitDataSet(dataArr,idx,val)\n",
    "            if len(arr1)<tolNum or len(arr2)<tolNum:\n",
    "                continue\n",
    "            # 两个结点的总方差\n",
    "            err=errType(arr1)+errType(arr2)\n",
    "            if err<bestErr:\n",
    "                bestIndex=idx\n",
    "                bestValue=val\n",
    "                bestErr=err\n",
    "    # 如果误差减少不大，则提前退出\n",
    "    if E-bestErr <tolErr:\n",
    "        return None,leafType(dataArr)\n",
    "    # 继续建树\n",
    "    print(\"arr1,arr2\")\n",
    "    arr1,arr2=binSplitDataSet(dataArr,bestIndex,bestValue)\n",
    "    # 如果划分出的数据集样本个数少于阈值，则返回叶结点\n",
    "    if len(arr1)<tolNum or len(arr2)<tolNum:\n",
    "        return None,leafType(dataArr)\n",
    "    # 返回特征编号，特征值\n",
    "    print('bestIndex,bestValue')\n",
    "    return bestIndex,bestValue"
   ]
  },
  {
   "source": [
    "**构建回归树**"
   ],
   "cell_type": "markdown",
   "metadata": {}
  },
  {
   "cell_type": "code",
   "execution_count": 7,
   "metadata": {},
   "outputs": [],
   "source": [
    "def createTree(dataArr,leafType=regLeaf,errType=regErr,opt=(1,4)):\n",
    "    # 建树，使用字典存储树\n",
    "    idx,val=chooseBestSplit(dataArr,leafType,errType,opt)\n",
    "    # 叶节点\n",
    "    if idx==None:\n",
    "        return val\n",
    "    # 树\n",
    "    print('tree')\n",
    "    tree={};\n",
    "    tree['idx']=idx;tree['val']=val\n",
    "    lArr,rArr=binSplitDataSet(dataArr,idx,val)\n",
    "    # 分支\n",
    "    print('branch')\n",
    "    tree['left'] =createTree(lArr,leafType,errType,opt)\n",
    "    tree['right']=createTree(rArr,leafType,errType,opt)\n",
    "    # 返回回归树\n",
    "    return tree"
   ]
  },
  {
   "source": [
    "运行CART代码"
   ],
   "cell_type": "markdown",
   "metadata": {}
  },
  {
   "cell_type": "code",
   "execution_count": 8,
   "metadata": {},
   "outputs": [
    {
     "output_type": "execute_result",
     "data": {
      "text/plain": [
       "array([[0.036098, 0.155096]])"
      ]
     },
     "metadata": {},
     "execution_count": 8
    }
   ],
   "source": [
    "dataArr=loadData('./ex00.txt')\n",
    "dataArr[:1]"
   ]
  },
  {
   "cell_type": "code",
   "execution_count": 9,
   "metadata": {
    "tags": []
   },
   "outputs": [
    {
     "output_type": "stream",
     "name": "stdout",
     "text": [
      "arr1,arr2\nbestIndex,bestValue\ntree\nbranch\n"
     ]
    },
    {
     "output_type": "execute_result",
     "data": {
      "text/plain": [
       "{'idx': 0,\n",
       " 'val': 0.48813,\n",
       " 'left': 1.0180967672413792,\n",
       " 'right': -0.04465028571428572}"
      ]
     },
     "metadata": {},
     "execution_count": 9
    }
   ],
   "source": [
    "tree=createTree(dataArr)\n",
    "tree"
   ]
  },
  {
   "cell_type": "code",
   "execution_count": 10,
   "metadata": {},
   "outputs": [
    {
     "output_type": "stream",
     "name": "stdout",
     "text": [
      "arr1,arr2\nbestIndex,bestValue\ntree\nbranch\narr1,arr2\nbestIndex,bestValue\ntree\nbranch\narr1,arr2\nbestIndex,bestValue\ntree\nbranch\narr1,arr2\nbestIndex,bestValue\ntree\nbranch\n"
     ]
    },
    {
     "output_type": "execute_result",
     "data": {
      "text/plain": [
       "{'idx': 1,\n",
       " 'val': 0.39435,\n",
       " 'left': {'idx': 1,\n",
       "  'val': 0.582002,\n",
       "  'left': {'idx': 1,\n",
       "   'val': 0.797583,\n",
       "   'left': 3.9871632,\n",
       "   'right': 2.9836209534883724},\n",
       "  'right': 1.980035071428571},\n",
       " 'right': {'idx': 1,\n",
       "  'val': 0.197834,\n",
       "  'left': 1.0289583666666666,\n",
       "  'right': -0.023838155555555553}}"
      ]
     },
     "metadata": {},
     "execution_count": 10
    }
   ],
   "source": [
    "data1=loadData('./ex0.txt')\n",
    "tree1=createTree(data1)\n",
    "tree1"
   ]
  },
  {
   "source": [
    "## 9-4 树剪枝\n",
    "\n",
    "一棵树结点过多，可能造成“过拟合”，\n",
    "通过决策树剪枝，来避免过拟合。\n",
    "\n",
    "之前的函数chooseBestSplit()参数opt()作为提前终止条件，\n",
    "在建树的过程中发挥作用，这种方式叫做预剪枝。\n",
    "\n",
    "建立回归树之后，使用测试集，减去在测试集上误差变化不大的分支，\n",
    "这种方式叫做后剪枝。\n",
    "\n",
    "后剪枝实现过程：\n",
    "```\n",
    "基于测试集：\n",
    "    如果是树或子树：\n",
    "        计算将两个分支（或结点）合并的误差\n",
    "        计算将两个分支（或结点）不合并的误差\n",
    "        如果合并能降低误差：\n",
    "            则合并这两个分支或结点\n",
    "```\n",
    "代码"
   ],
   "cell_type": "markdown",
   "metadata": {}
  },
  {
   "cell_type": "code",
   "execution_count": 11,
   "metadata": {},
   "outputs": [],
   "source": [
    "def isTree(obj):\n",
    "    # 树使用字典存储，\n",
    "    # 所以类型是dict的就是子树(或树)\n",
    "    return (type(obj).__name__=='dict')"
   ]
  },
  {
   "cell_type": "code",
   "execution_count": 12,
   "metadata": {},
   "outputs": [],
   "source": [
    "def getMean(tree):\n",
    "    # 计算两个子树的平均总方差\n",
    "    if isTree(tree['left']):\n",
    "        tree['left']=getMean(tree['left'])\n",
    "    if isTree(tree['right']):\n",
    "        tree['right']=getMean(tree['right'])\n",
    "    return (tree['left']+tree['right'])/2.0"
   ]
  },
  {
   "cell_type": "code",
   "execution_count": 13,
   "metadata": {},
   "outputs": [],
   "source": [
    "def prune(tree,testArr):\n",
    "    # 剪枝\n",
    "    # 没有测试数据了，则对树做塌陷处理\n",
    "    if testArr.shape[0]==0:\n",
    "        return getMean(tree)\n",
    "    # 分支，则使用回归树划分测试集\n",
    "    if isTree(tree['left']) or isTree(tree['right']):\n",
    "        lArr,rArr=binSplitDataSet(testArr,tree['idx'],tree['val'])\n",
    "    # 左分支\n",
    "    if isTree(tree['left']):\n",
    "        tree['left']= prune(tree['left'],lArr)\n",
    "    # 右分支\n",
    "    if isTree(tree['right']):\n",
    "        tree['right']=prune(tree['right'],rArr)\n",
    "    # 叶结点\n",
    "    if not isTree(tree['left']) and not isTree(tree['right']):\n",
    "        # 计算总的方差\n",
    "        # 不合并的总方差\n",
    "        lArr,rArr=binSplitDataSet(testArr,tree['idx'],tree['val'])\n",
    "        lerr=np.power(lArr[:,-1] - tree['left'],2)\n",
    "        rerr=np.power(rArr[:,-1] - tree['right'],2)\n",
    "        errNoMerge=np.sum(lerr) + np.sum(rerr)\n",
    "        # 合并的总方差\n",
    "        treeMean=(tree['left']+tree['right'])/2.0\n",
    "        errMerge=np.sum(np.power(testArr[:,-1] - treeMean,2))\n",
    "        # 比较\n",
    "        if errMerge<errNoMerge:\n",
    "            print('merge')\n",
    "            # 合并分支\n",
    "            # 返回两个分支的总方差之和\n",
    "            return treeMean\n",
    "        else:\n",
    "            # 保留原分支\n",
    "            return tree\n",
    "    else:\n",
    "        return tree"
   ]
  },
  {
   "cell_type": "code",
   "execution_count": 14,
   "metadata": {},
   "outputs": [
    {
     "output_type": "stream",
     "name": "stdout",
     "text": [
      "arr1,arr2\n",
      "bestIndex,bestValue\n",
      "tree\n",
      "branch\n",
      "arr1,arr2\n",
      "bestIndex,bestValue\n",
      "tree\n",
      "branch\n",
      "arr1,arr2\n",
      "bestIndex,bestValue\n",
      "tree\n",
      "branch\n",
      "arr1,arr2\n",
      "bestIndex,bestValue\n",
      "tree\n",
      "branch\n",
      "arr1,arr2\n",
      "bestIndex,bestValue\n",
      "tree\n",
      "branch\n",
      "arr1,arr2\n",
      "bestIndex,bestValue\n",
      "tree\n",
      "branch\n",
      "arr1,arr2\n",
      "bestIndex,bestValue\n",
      "tree\n",
      "branch\n",
      "arr1,arr2\n",
      "bestIndex,bestValue\n",
      "tree\n",
      "branch\n",
      "arr1,arr2\n",
      "bestIndex,bestValue\n",
      "tree\n",
      "branch\n",
      "arr1,arr2\n",
      "bestIndex,bestValue\n",
      "tree\n",
      "branch\n",
      "arr1,arr2\n",
      "bestIndex,bestValue\n",
      "tree\n",
      "branch\n",
      "arr1,arr2\n",
      "bestIndex,bestValue\n",
      "tree\n",
      "branch\n",
      "arr1,arr2\n",
      "bestIndex,bestValue\n",
      "tree\n",
      "branch\n",
      "arr1,arr2\n",
      "bestIndex,bestValue\n",
      "tree\n",
      "branch\n",
      "arr1,arr2\n",
      "bestIndex,bestValue\n",
      "tree\n",
      "branch\n",
      "arr1,arr2\n",
      "bestIndex,bestValue\n",
      "tree\n",
      "branch\n",
      "arr1,arr2\n",
      "bestIndex,bestValue\n",
      "tree\n",
      "branch\n",
      "arr1,arr2\n",
      "bestIndex,bestValue\n",
      "tree\n",
      "branch\n",
      "arr1,arr2\n",
      "bestIndex,bestValue\n",
      "tree\n",
      "branch\n",
      "arr1,arr2\n",
      "bestIndex,bestValue\n",
      "tree\n",
      "branch\n",
      "arr1,arr2\n",
      "bestIndex,bestValue\n",
      "tree\n",
      "branch\n",
      "arr1,arr2\n",
      "bestIndex,bestValue\n",
      "tree\n",
      "branch\n",
      "arr1,arr2\n",
      "bestIndex,bestValue\n",
      "tree\n",
      "branch\n",
      "arr1,arr2\n",
      "bestIndex,bestValue\n",
      "tree\n",
      "branch\n",
      "arr1,arr2\n",
      "bestIndex,bestValue\n",
      "tree\n",
      "branch\n",
      "arr1,arr2\n",
      "bestIndex,bestValue\n",
      "tree\n",
      "branch\n",
      "arr1,arr2\n",
      "bestIndex,bestValue\n",
      "tree\n",
      "branch\n",
      "arr1,arr2\n",
      "bestIndex,bestValue\n",
      "tree\n",
      "branch\n",
      "arr1,arr2\n",
      "bestIndex,bestValue\n",
      "tree\n",
      "branch\n",
      "arr1,arr2\n",
      "bestIndex,bestValue\n",
      "tree\n",
      "branch\n",
      "arr1,arr2\n",
      "bestIndex,bestValue\n",
      "tree\n",
      "branch\n",
      "arr1,arr2\n",
      "bestIndex,bestValue\n",
      "tree\n",
      "branch\n",
      "arr1,arr2\n",
      "bestIndex,bestValue\n",
      "tree\n",
      "branch\n",
      "arr1,arr2\n",
      "bestIndex,bestValue\n",
      "tree\n",
      "branch\n",
      "arr1,arr2\n",
      "bestIndex,bestValue\n",
      "tree\n",
      "branch\n",
      "arr1,arr2\n",
      "bestIndex,bestValue\n",
      "tree\n",
      "branch\n",
      "arr1,arr2\n",
      "bestIndex,bestValue\n",
      "tree\n",
      "branch\n",
      "arr1,arr2\n",
      "bestIndex,bestValue\n",
      "tree\n",
      "branch\n",
      "arr1,arr2\n",
      "bestIndex,bestValue\n",
      "tree\n",
      "branch\n",
      "arr1,arr2\n",
      "bestIndex,bestValue\n",
      "tree\n",
      "branch\n",
      "arr1,arr2\n",
      "bestIndex,bestValue\n",
      "tree\n",
      "branch\n"
     ]
    },
    {
     "output_type": "execute_result",
     "data": {
      "text/plain": [
       "{'idx': 0,\n",
       " 'val': 0.499171,\n",
       " 'left': {'idx': 0,\n",
       "  'val': 0.729397,\n",
       "  'left': {'idx': 0,\n",
       "   'val': 0.952833,\n",
       "   'left': {'idx': 0,\n",
       "    'val': 0.958512,\n",
       "    'left': 105.24862350000001,\n",
       "    'right': 112.42895575000001},\n",
       "   'right': {'idx': 0,\n",
       "    'val': 0.759504,\n",
       "    'left': {'idx': 0,\n",
       "     'val': 0.790312,\n",
       "     'left': {'idx': 0,\n",
       "      'val': 0.833026,\n",
       "      'left': {'idx': 0,\n",
       "       'val': 0.944221,\n",
       "       'left': 87.3103875,\n",
       "       'right': {'idx': 0,\n",
       "        'val': 0.85497,\n",
       "        'left': {'idx': 0,\n",
       "         'val': 0.910975,\n",
       "         'left': 96.452867,\n",
       "         'right': {'idx': 0,\n",
       "          'val': 0.892999,\n",
       "          'left': 104.825409,\n",
       "          'right': {'idx': 0,\n",
       "           'val': 0.872883,\n",
       "           'left': 95.181793,\n",
       "           'right': 102.25234449999999}}},\n",
       "        'right': 95.27584316666666}},\n",
       "      'right': {'idx': 0,\n",
       "       'val': 0.811602,\n",
       "       'left': 81.110152,\n",
       "       'right': 88.78449880000001}},\n",
       "     'right': 102.35780185714285},\n",
       "    'right': 78.08564325}},\n",
       "  'right': {'idx': 0,\n",
       "   'val': 0.640515,\n",
       "   'left': {'idx': 0,\n",
       "    'val': 0.666452,\n",
       "    'left': {'idx': 0,\n",
       "     'val': 0.706961,\n",
       "     'left': 114.554706,\n",
       "     'right': {'idx': 0,\n",
       "      'val': 0.698472,\n",
       "      'left': 104.82495374999999,\n",
       "      'right': 108.92921799999999}},\n",
       "    'right': 114.1516242857143},\n",
       "   'right': {'idx': 0,\n",
       "    'val': 0.613004,\n",
       "    'left': 93.67344971428572,\n",
       "    'right': {'idx': 0,\n",
       "     'val': 0.582311,\n",
       "     'left': 123.2101316,\n",
       "     'right': {'idx': 0,\n",
       "      'val': 0.553797,\n",
       "      'left': 97.20018024999999,\n",
       "      'right': {'idx': 0,\n",
       "       'val': 0.51915,\n",
       "       'left': {'idx': 0,\n",
       "        'val': 0.543843,\n",
       "        'left': 109.38961049999999,\n",
       "        'right': 110.979946},\n",
       "       'right': 101.73699325000001}}}}}},\n",
       " 'right': {'idx': 0,\n",
       "  'val': 0.457563,\n",
       "  'left': {'idx': 0,\n",
       "   'val': 0.467383,\n",
       "   'left': 12.50675925,\n",
       "   'right': 3.4331330000000007},\n",
       "  'right': {'idx': 0,\n",
       "   'val': 0.126833,\n",
       "   'left': {'idx': 0,\n",
       "    'val': 0.373501,\n",
       "    'left': {'idx': 0,\n",
       "     'val': 0.437652,\n",
       "     'left': -12.558604833333334,\n",
       "     'right': {'idx': 0,\n",
       "      'val': 0.412516,\n",
       "      'left': 14.38417875,\n",
       "      'right': {'idx': 0,\n",
       "       'val': 0.385021,\n",
       "       'left': -0.8923554999999995,\n",
       "       'right': 3.6584772500000016}}},\n",
       "    'right': {'idx': 0,\n",
       "     'val': 0.335182,\n",
       "     'left': {'idx': 0,\n",
       "      'val': 0.350725,\n",
       "      'left': -15.08511175,\n",
       "      'right': -22.693879600000002},\n",
       "     'right': {'idx': 0,\n",
       "      'val': 0.324274,\n",
       "      'left': 15.05929075,\n",
       "      'right': {'idx': 0,\n",
       "       'val': 0.297107,\n",
       "       'left': -19.9941552,\n",
       "       'right': {'idx': 0,\n",
       "        'val': 0.166765,\n",
       "        'left': {'idx': 0,\n",
       "         'val': 0.202161,\n",
       "         'left': {'idx': 0,\n",
       "          'val': 0.217214,\n",
       "          'left': {'idx': 0,\n",
       "           'val': 0.228473,\n",
       "           'left': {'idx': 0,\n",
       "            'val': 0.25807,\n",
       "            'left': 0.40377471428571476,\n",
       "            'right': -13.070501},\n",
       "           'right': 6.770429},\n",
       "          'right': -11.822278500000001},\n",
       "         'right': 3.4496025},\n",
       "        'right': {'idx': 0,\n",
       "         'val': 0.156067,\n",
       "         'left': -12.1079725,\n",
       "         'right': -6.247900000000001}}}}}},\n",
       "   'right': {'idx': 0,\n",
       "    'val': 0.084661,\n",
       "    'left': 6.509843285714284,\n",
       "    'right': {'idx': 0,\n",
       "     'val': 0.044737,\n",
       "     'left': -2.544392714285715,\n",
       "     'right': 4.091626}}}}}"
      ]
     },
     "metadata": {},
     "execution_count": 14
    }
   ],
   "source": [
    "# test\n",
    "trainArr=loadData('./ex2.txt')\n",
    "tree2=createTree(trainArr)\n",
    "tree2"
   ]
  },
  {
   "cell_type": "code",
   "execution_count": 15,
   "metadata": {},
   "outputs": [
    {
     "output_type": "stream",
     "name": "stdout",
     "text": [
      "merge\nmerge\nmerge\nmerge\nmerge\nmerge\nmerge\nmerge\nmerge\n"
     ]
    },
    {
     "output_type": "execute_result",
     "data": {
      "text/plain": [
       "{'idx': 0,\n",
       " 'val': 0.499171,\n",
       " 'left': {'idx': 0,\n",
       "  'val': 0.729397,\n",
       "  'left': {'idx': 0,\n",
       "   'val': 0.952833,\n",
       "   'left': {'idx': 0,\n",
       "    'val': 0.958512,\n",
       "    'left': 105.24862350000001,\n",
       "    'right': 112.42895575000001},\n",
       "   'right': {'idx': 0,\n",
       "    'val': 0.759504,\n",
       "    'left': {'idx': 0,\n",
       "     'val': 0.790312,\n",
       "     'left': {'idx': 0,\n",
       "      'val': 0.833026,\n",
       "      'left': {'idx': 0,\n",
       "       'val': 0.944221,\n",
       "       'left': 87.3103875,\n",
       "       'right': {'idx': 0,\n",
       "        'val': 0.85497,\n",
       "        'left': {'idx': 0,\n",
       "         'val': 0.910975,\n",
       "         'left': 96.452867,\n",
       "         'right': {'idx': 0,\n",
       "          'val': 0.892999,\n",
       "          'left': 104.825409,\n",
       "          'right': {'idx': 0,\n",
       "           'val': 0.872883,\n",
       "           'left': 95.181793,\n",
       "           'right': 102.25234449999999}}},\n",
       "        'right': 95.27584316666666}},\n",
       "      'right': {'idx': 0,\n",
       "       'val': 0.811602,\n",
       "       'left': 81.110152,\n",
       "       'right': 88.78449880000001}},\n",
       "     'right': 102.35780185714285},\n",
       "    'right': 78.08564325}},\n",
       "  'right': {'idx': 0,\n",
       "   'val': 0.640515,\n",
       "   'left': {'idx': 0,\n",
       "    'val': 0.666452,\n",
       "    'left': {'idx': 0,\n",
       "     'val': 0.706961,\n",
       "     'left': 114.554706,\n",
       "     'right': 106.87708587499999},\n",
       "    'right': 114.1516242857143},\n",
       "   'right': {'idx': 0,\n",
       "    'val': 0.613004,\n",
       "    'left': 93.67344971428572,\n",
       "    'right': {'idx': 0,\n",
       "     'val': 0.582311,\n",
       "     'left': 123.2101316,\n",
       "     'right': 101.580533}}}},\n",
       " 'right': {'idx': 0,\n",
       "  'val': 0.457563,\n",
       "  'left': 7.969946125,\n",
       "  'right': {'idx': 0,\n",
       "   'val': 0.126833,\n",
       "   'left': {'idx': 0,\n",
       "    'val': 0.373501,\n",
       "    'left': {'idx': 0,\n",
       "     'val': 0.437652,\n",
       "     'left': -12.558604833333334,\n",
       "     'right': {'idx': 0,\n",
       "      'val': 0.412516,\n",
       "      'left': 14.38417875,\n",
       "      'right': 1.383060875000001}},\n",
       "    'right': {'idx': 0,\n",
       "     'val': 0.335182,\n",
       "     'left': {'idx': 0,\n",
       "      'val': 0.350725,\n",
       "      'left': -15.08511175,\n",
       "      'right': -22.693879600000002},\n",
       "     'right': {'idx': 0,\n",
       "      'val': 0.324274,\n",
       "      'left': 15.05929075,\n",
       "      'right': {'idx': 0,\n",
       "       'val': 0.297107,\n",
       "       'left': -19.9941552,\n",
       "       'right': {'idx': 0,\n",
       "        'val': 0.166765,\n",
       "        'left': {'idx': 0,\n",
       "         'val': 0.202161,\n",
       "         'left': -5.801872785714286,\n",
       "         'right': 3.4496025},\n",
       "        'right': {'idx': 0,\n",
       "         'val': 0.156067,\n",
       "         'left': -12.1079725,\n",
       "         'right': -6.247900000000001}}}}}},\n",
       "   'right': {'idx': 0,\n",
       "    'val': 0.084661,\n",
       "    'left': 6.509843285714284,\n",
       "    'right': {'idx': 0,\n",
       "     'val': 0.044737,\n",
       "     'left': -2.544392714285715,\n",
       "     'right': 4.091626}}}}}"
      ]
     },
     "metadata": {},
     "execution_count": 15
    }
   ],
   "source": [
    "testArr=loadData('./ex2test.txt')\n",
    "prune(tree2,testArr)"
   ]
  },
  {
   "source": [
    "## 9-5 模型树\n",
    "\n",
    "用树对数据建模，需要吧叶结点设定为分段线性函数。\n",
    "\n",
    "对于给定数据集，先用线性模型对其进行拟合，然后计算真实值与模型预测值之间\n",
    "的插差值，差值平方求和就是需要的误差。\n"
   ],
   "cell_type": "markdown",
   "metadata": {}
  },
  {
   "cell_type": "code",
   "execution_count": 24,
   "metadata": {},
   "outputs": [],
   "source": [
    "def linear(dataArr):\n",
    "    m,n=dataArr.shape\n",
    "    # 初始化X,Y\n",
    "    X=np.ones((m,n));Y=np.ones((m,1))\n",
    "    # 赋值\n",
    "    X[:,1:n]=dataArr[:,0:n-1];Y=dataArr[:,-1]\n",
    "    X=np.mat(X);Y=Y.reshape(m,1)\n",
    "    # print(X.shape,Y.shape)\n",
    "    xTx=np.dot(X.T,X)\n",
    "    # print(\"xTx.shape\",xTx.shape)\n",
    "    # np.linalg.det(X)表示计算矩阵X的行列式\n",
    "    if np.linalg.det(xTx) == 0.0:\n",
    "        # 说明不可逆,报错并返回\n",
    "        print(\"This matrix cannot do inverse\")\n",
    "        # 求伪逆\n",
    "        xTx_I=np.linalg.pinv(xTx)\n",
    "    else:\n",
    "        # 求逆\n",
    "        xTx_I=xTx.I\n",
    "    t=np.dot(X.T,Y)\n",
    "    # ws = xTx_I*(X.T*Y)\n",
    "    ws = np.dot(xTx_I,t)\n",
    "    return ws,X,Y"
   ]
  },
  {
   "cell_type": "code",
   "execution_count": 25,
   "metadata": {},
   "outputs": [],
   "source": [
    "def modelLeaf(dataArr):\n",
    "    ws,X,Y=linear(dataArr)\n",
    "    return ws"
   ]
  },
  {
   "cell_type": "code",
   "execution_count": 26,
   "metadata": {},
   "outputs": [],
   "source": [
    "def modelErr(dataArr):\n",
    "    # 在给定的数据集上计算误差\n",
    "    # 权重矩阵，自变量，因变量\n",
    "    ws,X,Y=linear(dataArr)\n",
    "    # 预测值\n",
    "    yHat=X*ws\n",
    "    # 返回平方误差\n",
    "    return np.sum(np.power(Y-yHat,2))"
   ]
  },
  {
   "cell_type": "code",
   "execution_count": 28,
   "metadata": {},
   "outputs": [
    {
     "output_type": "stream",
     "name": "stdout",
     "text": [
      "arr1,arr2\nbestIndex,bestValue\ntree\nbranch\n"
     ]
    },
    {
     "output_type": "execute_result",
     "data": {
      "text/plain": [
       "{'idx': 0,\n",
       " 'val': 0.285477,\n",
       " 'left': matrix([[1.69855694e-03],\n",
       "         [1.19647739e+01]]),\n",
       " 'right': matrix([[3.46877936],\n",
       "         [1.18521743]])}"
      ]
     },
     "metadata": {},
     "execution_count": 28
    }
   ],
   "source": [
    "data3=loadData('./exp2.txt')\n",
    "ws,x,y=linear(data3)\n",
    "\n",
    "tree3=createTree(data3,modelLeaf,modelErr,(1,10))\n",
    "tree3"
   ]
  },
  {
   "source": [
    "## 9-6 示例\n",
    "\n",
    "使用corrcoef函数分析模型"
   ],
   "cell_type": "markdown",
   "metadata": {}
  },
  {
   "cell_type": "code",
   "execution_count": 54,
   "metadata": {},
   "outputs": [],
   "source": [
    "def regTreeEval(model, inDat):\n",
    "    # 对叶结点数据的预测\n",
    "    # 回归树模型\n",
    "    return float(model)"
   ]
  },
  {
   "cell_type": "code",
   "execution_count": 55,
   "metadata": {},
   "outputs": [],
   "source": [
    "def modelTreeEval(model, inDat):\n",
    "    # 对叶节点的预测\n",
    "    # 模型树\n",
    "    n = np.shape(inDat)[1]\n",
    "    X = np.mat(np.ones((1,n+1)))\n",
    "    X[:,1:n+1]=inDat\n",
    "    return float(X*model)"
   ]
  },
  {
   "cell_type": "code",
   "execution_count": 60,
   "metadata": {},
   "outputs": [],
   "source": [
    "def treeForeCast(tree, inData, modelEval=regTreeEval):\n",
    "    # 对于给定的tree，输入值，模型类型，\n",
    "    # 该函数返回一个预测值\n",
    "    if not isTree(tree): \n",
    "        return modelEval(tree, inData)\n",
    "    if inData[tree['idx']] > tree['val']:\n",
    "        if isTree(tree['left']): \n",
    "            return treeForeCast(tree['left'], inData, modelEval)\n",
    "        else: \n",
    "            return modelEval(tree['left'], inData)\n",
    "    else:\n",
    "        if isTree(tree['right']): \n",
    "            return treeForeCast(tree['right'], inData, modelEval)\n",
    "        else: \n",
    "            return modelEval(tree['right'], inData)"
   ]
  },
  {
   "cell_type": "code",
   "execution_count": 61,
   "metadata": {},
   "outputs": [],
   "source": [
    "def createForeCast(tree, testData, model=regTreeEval):\n",
    "    # 返回预测值向量\n",
    "    m=len(testData)\n",
    "    yHat = np.mat(np.zeros((m,1)))\n",
    "    for i in range(m):\n",
    "        yHat[i,0] = treeForeCast(tree, np.mat(testData[i]), model)\n",
    "    return yHat"
   ]
  },
  {
   "source": [
    "**回归树模型**"
   ],
   "cell_type": "markdown",
   "metadata": {}
  },
  {
   "cell_type": "code",
   "execution_count": 70,
   "metadata": {},
   "outputs": [],
   "source": [
    "def modelTest(trainArr,testArr,model):\n",
    "    # return R^2\n",
    "    if model=='regTree':\n",
    "        tree=createTree(trainArr,opt=(1,20))\n",
    "        # 估计值\n",
    "        yhat=createForeCast(regTree,testArr[:,0])\n",
    "    else:\n",
    "        tree=createTree(trainArr,modelLeaf,modelErr,(1,20))\n",
    "        # 估计值\n",
    "        yhat=createForeCast(modelTree,testArr[:,0],modelTreeEval)\n",
    "    # R^2   \n",
    "    return np.corrcoef(yhat,testArr[:,1],rowvar=0)[0,1]"
   ]
  },
  {
   "cell_type": "code",
   "execution_count": 73,
   "metadata": {},
   "outputs": [],
   "source": [
    "#  test \n",
    "trainArr=loadData('./bikeSpeedVsIq_train.txt')\n",
    "testArr=loadData('./bikeSpeedVsIq_test.txt')"
   ]
  },
  {
   "source": [
    "**回归树**"
   ],
   "cell_type": "markdown",
   "metadata": {}
  },
  {
   "cell_type": "code",
   "execution_count": 74,
   "metadata": {},
   "outputs": [
    {
     "output_type": "stream",
     "name": "stdout",
     "text": [
      "arr1,arr2\nbestIndex,bestValue\ntree\nbranch\narr1,arr2\nbestIndex,bestValue\ntree\nbranch\narr1,arr2\nbestIndex,bestValue\ntree\nbranch\narr1,arr2\nbestIndex,bestValue\ntree\nbranch\narr1,arr2\nbestIndex,bestValue\ntree\nbranch\narr1,arr2\nbestIndex,bestValue\ntree\nbranch\n"
     ]
    },
    {
     "output_type": "execute_result",
     "data": {
      "text/plain": [
       "0.9640852318222141"
      ]
     },
     "metadata": {},
     "execution_count": 74
    }
   ],
   "source": [
    "modelTest(trainArr,testArr,'regTree')"
   ]
  },
  {
   "source": [
    "**模型树**"
   ],
   "cell_type": "markdown",
   "metadata": {}
  },
  {
   "cell_type": "code",
   "execution_count": 75,
   "metadata": {},
   "outputs": [
    {
     "output_type": "stream",
     "name": "stdout",
     "text": [
      "arr1,arr2\nbestIndex,bestValue\ntree\nbranch\narr1,arr2\nbestIndex,bestValue\ntree\nbranch\narr1,arr2\nbestIndex,bestValue\ntree\nbranch\narr1,arr2\nbestIndex,bestValue\ntree\nbranch\narr1,arr2\nbestIndex,bestValue\ntree\nbranch\narr1,arr2\nbestIndex,bestValue\ntree\nbranch\n"
     ]
    },
    {
     "output_type": "execute_result",
     "data": {
      "text/plain": [
       "0.9760412191380593"
      ]
     },
     "metadata": {},
     "execution_count": 75
    }
   ],
   "source": [
    "modelTest(trainArr,testArr,'modelTree')"
   ]
  },
  {
   "source": [
    "R^2越接近1，则效果越好。"
   ],
   "cell_type": "markdown",
   "metadata": {}
  },
  {
   "cell_type": "code",
   "execution_count": null,
   "metadata": {},
   "outputs": [],
   "source": []
  }
 ]
}