{
 "metadata": {
  "language_info": {
   "codemirror_mode": {
    "name": "ipython",
    "version": 3
   },
   "file_extension": ".py",
   "mimetype": "text/x-python",
   "name": "python",
   "nbconvert_exporter": "python",
   "pygments_lexer": "ipython3",
   "version": "3.8.5-final"
  },
  "orig_nbformat": 2,
  "kernelspec": {
   "name": "python3",
   "display_name": "Python 3",
   "language": "python"
  }
 },
 "nbformat": 4,
 "nbformat_minor": 2,
 "cells": [
  {
   "source": [
    "# ch14 利用SVD简化数据\n",
    "\n",
    "SVD主要用于奇异值分解，来简化数据，适用于数值型的数据，因为涉及到矩阵运算。\n",
    "\n",
    "利用SVD，可以得到比原始数据集小得多的数据集，用后者来表示原始数据集进行相关操作，\n",
    "等同于去除了原始数据集的噪声和冗余信息。可以将SVD看作是从数据集抽取出了相关特征。\n",
    "\n",
    "SVD应用之一是信息检索，称为隐性语义索引(latent semantic index,LSI)。\n",
    "> LSI中，文档和词语组成一个矩阵，在该矩阵上应用SVD时，就会构建出多个奇异值，\n",
    "> 这些奇异值就代表了文档中的概念和主题。\n",
    "\n",
    "SVD应用之二是推荐系统，先利用SVD从数据中构建出一个主题空间，然后在这个空间下计算相似度。\n",
    "\n",
    "SVD实际是矩阵分解的一种类型，也就是将原始数据矩阵data分解为三个独立矩阵:$U,\\sum,V^T$, \n",
    "如果原始数据矩阵data是$m*n$,则矩阵$U,\\sum,V^T$ 分别是$m*m,m*n,n*n$。对应如下公式：\n",
    "$$\n",
    "Data_{m*n}=U_{m*m}\\sum {}_{m*n} V_{n*n}\n",
    "$$\n",
    "\n",
    "矩阵$\\sum$是一个对角阵，这些元素称为奇异值，它们对应于原始数据集Data的奇异值，等于矩阵\n",
    "$Data*Data^T$的特征值的平方根。\n",
    "\n",
    "\n",
    "利用numpy的线性代数工具箱linalg可以调用svd。"
   ],
   "cell_type": "markdown",
   "metadata": {}
  },
  {
   "source": [
    "两个物品之间相似度的定量方法，有以下几种量化方法：\n",
    "\n",
    "1. 欧式距离\n",
    "2. 皮尔逊相关系数，在numpy中是corrcoef()，取值范围是-1到1\n",
    "3. 余弦相似度，计算的是两个向量夹角的余弦值，如果夹角为90°，则相似度为0.\n",
    "\n",
    "余弦相似度公式：\n",
    "$$\n",
    "cos\\theta=\\frac{A*B}{||A||*||B||}\n",
    "$$\n",
    "其中，||A||表示向量A的2范数，栗子：向量\\[4,3,2\\]的2范数为$\\sqrt{4^2+3^2+2^2}$\n",
    "\n",
    "三种相似度计算方法对应代码："
   ],
   "cell_type": "markdown",
   "metadata": {}
  },
  {
   "cell_type": "code",
   "execution_count": 1,
   "metadata": {},
   "outputs": [],
   "source": [
    "import numpy as np \n",
    "\n",
    "def eculSim(x,y):\n",
    "    return 1.0/(1.0+ np.linalg.norm(x-y))"
   ]
  },
  {
   "cell_type": "code",
   "execution_count": 2,
   "metadata": {},
   "outputs": [],
   "source": [
    "def pearSim(x,y):\n",
    "    if len(x)<3:\n",
    "        return 1.0\n",
    "    # -1到1转换到0到1\n",
    "    # corr返回四个值，只需要第二个值\n",
    "    return 0.5 + 0.5*np.corrcoef(x,y,rowvar=0)[0][1] "
   ]
  },
  {
   "cell_type": "code",
   "execution_count": 3,
   "metadata": {},
   "outputs": [],
   "source": [
    "def cosSim(x,y):\n",
    "    num=float(x.T*y)\n",
    "    denom=np.linalg.norm(x)*np.linalg.norm(y)\n",
    "    return 0.5+0.5*(num/denom)"
   ]
  },
  {
   "cell_type": "code",
   "execution_count": 4,
   "metadata": {},
   "outputs": [],
   "source": [
    "# test\n",
    "def loadExData():\n",
    "    return[[0, 0, 0, 2, 2],\n",
    "           [0, 0, 0, 3, 3],\n",
    "           [0, 0, 0, 1, 1],\n",
    "           [1, 1, 1, 0, 0],\n",
    "           [2, 2, 2, 0, 0],\n",
    "           [5, 5, 5, 0, 0],\n",
    "           [1, 1, 1, 0, 0]]"
   ]
  },
  {
   "cell_type": "code",
   "execution_count": 5,
   "metadata": {},
   "outputs": [
    {
     "output_type": "execute_result",
     "data": {
      "text/plain": [
       "0.12973190755680383"
      ]
     },
     "metadata": {},
     "execution_count": 5
    }
   ],
   "source": [
    "data1=np.mat(loadExData())\n",
    "data=data1\n",
    "eculSim(data1[:,0],data1[:,4])"
   ]
  },
  {
   "cell_type": "code",
   "execution_count": 6,
   "metadata": {},
   "outputs": [
    {
     "output_type": "stream",
     "name": "stdout",
     "text": [
      "0.5 1.0\n"
     ]
    }
   ],
   "source": [
    "print(cosSim(data1[:,0],data1[:,4]),\n",
    "      cosSim(data1[:,0],data1[:,0]) )"
   ]
  },
  {
   "cell_type": "code",
   "execution_count": 7,
   "metadata": {},
   "outputs": [
    {
     "output_type": "stream",
     "name": "stdout",
     "text": [
      "0.20596538173840329 1.0\n"
     ]
    }
   ],
   "source": [
    "print(pearSim(data1[:,0],data1[:,4]),\n",
    "      pearSim(data1[:,0],data1[:,0]) )"
   ]
  },
  {
   "source": [
    "## 14-5示例：餐馆菜肴推荐系统\n",
    "\n",
    "描述：假设一个人在家决定外出吃饭，但是并不知到去哪儿，该点什么菜，\n",
    "那么这个推荐系统可以帮助做到这两点。\n",
    "\n",
    "推荐系统工作过程是：\n",
    "+ 寻找用户没有评级的菜\n",
    "+ 对该用户没有评级的所有物品中，对每个物品预计一个可能的分数，也就是说，假设用户对该物品打分。\n",
    "+ 对以上这些打分了的物品，按照评分从高到低排序，选择前N个物品。\n",
    "\n",
    "代码："
   ],
   "cell_type": "markdown",
   "metadata": {}
  },
  {
   "cell_type": "code",
   "execution_count": 8,
   "metadata": {},
   "outputs": [],
   "source": [
    "# 给定相似度计算方法，计算用户对某一物品的评分值\n",
    "def stand_estimate(dataArr,user,simMeans,item):\n",
    "    # item为物品编号\n",
    "    n=dataArr.shape[1]\n",
    "    sim_total=0.0\n",
    "    rate_total=0.0\n",
    "    # n个物品\n",
    "    for j in range(n):\n",
    "        user_rate=dataArr[user,j]\n",
    "        if user_rate==0.0:\n",
    "            continue\n",
    "        # 寻找两个用户都评分的物品\n",
    "        ids=np.nonzero(np.logical_and(dataArr[:,item].A>0,dataArr[:,j].A>0))[0]\n",
    "        if len(ids)==0:\n",
    "            sim_rate=0.0\n",
    "        else:\n",
    "            sim_rate=simMeans(dataArr[ids,item],dataArr[ids,j])\n",
    "        # 相似度加和\n",
    "        sim_total+=sim_rate\n",
    "        rate_total+=sim_rate*user_rate\n",
    "    if sim_total==0:\n",
    "        return 0\n",
    "    # 归一化相似度评分，这些评分用于对预测值排序\n",
    "    return rate_total/sim_total"
   ]
  },
  {
   "cell_type": "code",
   "execution_count": 9,
   "metadata": {},
   "outputs": [],
   "source": [
    "def recommend(dataMat, user, N=3, simMeas=cosSim, estMethod=stand_estimate):\n",
    "    unratedItems = np.nonzero(dataMat[user,:].A==0)[1] # find unrated items \n",
    "    if len(unratedItems) == 0: return 'you rated everything'\n",
    "    itemScores = []\n",
    "    for item in unratedItems:\n",
    "        estimatedScore = estMethod(dataMat, user, simMeas, item)\n",
    "        itemScores.append((item, estimatedScore))\n",
    "    return sorted(itemScores, key=lambda jj: jj[1], reverse=True)[:N]\n"
   ]
  },
  {
   "cell_type": "code",
   "execution_count": 10,
   "metadata": {},
   "outputs": [
    {
     "output_type": "execute_result",
     "data": {
      "text/plain": [
       "matrix([[4, 4, 0, 2, 2],\n",
       "        [4, 0, 0, 3, 3],\n",
       "        [4, 0, 0, 1, 1],\n",
       "        [1, 1, 1, 2, 0],\n",
       "        [2, 2, 2, 0, 0],\n",
       "        [5, 5, 5, 0, 0],\n",
       "        [1, 1, 1, 0, 0]])"
      ]
     },
     "metadata": {},
     "execution_count": 10
    }
   ],
   "source": [
    "# test\n",
    "data1[0,1]=data1[0,0]=data1[1,0]=data1[2,0]=4\n",
    "data1[3,3]=2\n",
    "data1"
   ]
  },
  {
   "cell_type": "code",
   "execution_count": 11,
   "metadata": {},
   "outputs": [
    {
     "output_type": "execute_result",
     "data": {
      "text/plain": [
       "[(2, 2.5), (1, 2.0243290220056256)]"
      ]
     },
     "metadata": {},
     "execution_count": 11
    }
   ],
   "source": [
    "recommend(data1,2)"
   ]
  },
  {
   "source": [
    "由于用户2，对应矩阵第3列，没有对物品0和1进行评分，所以预测用户2对于物品1和物品2的预测评分，得到预测分分别为2.05和2.5。\n",
    "\n",
    "接下来，将stand_estimate函数替换为SVD函数。"
   ],
   "cell_type": "markdown",
   "metadata": {}
  },
  {
   "source": [
    "**基于SVD的评分估计**\n",
    "\n",
    "利用SVD，将预测得分的矩阵，转换为相对规模小的数据矩阵，换句话说，就是将原始数据集映射到低维空间中去。在低维空间中，利用相似度计算方法，构造出stand_estimate类型的函数作用。"
   ],
   "cell_type": "markdown",
   "metadata": {}
  },
  {
   "cell_type": "code",
   "execution_count": 12,
   "metadata": {},
   "outputs": [],
   "source": [
    "def svd(dataMat, user, simMeas, item):\n",
    "    n = dataMat.shape[1]\n",
    "    simTotal = 0.0; ratSimTotal = 0.0\n",
    "    # SVD分解\n",
    "    U,Sigma,VT = np.linalg.svd(dataMat)\n",
    "    Sig4 = np.mat(np.eye(4)*Sigma[:4]) \n",
    "    # 取前90的奇异值\n",
    "    xformedItems=dataMat.T * U[:,:4] * Sig4.I  \n",
    "    for j in range(n):\n",
    "        userRating = dataMat[user,j]\n",
    "        if userRating == 0 or j==item: \n",
    "            continue\n",
    "        similarity = simMeas(xformedItems[item,:].T,\\\n",
    "                             xformedItems[j,:].T)\n",
    "        print('the %d and %d similarity is: %f' % (item, j, similarity))\n",
    "        simTotal += similarity\n",
    "        ratSimTotal += similarity * userRating\n",
    "    if simTotal == 0: \n",
    "        return 0\n",
    "    else: \n",
    "        return ratSimTotal/simTotal"
   ]
  },
  {
   "cell_type": "code",
   "execution_count": 15,
   "metadata": {},
   "outputs": [
    {
     "output_type": "stream",
     "name": "stdout",
     "text": [
      "the 1 and 0 similarity is: 0.498142\nthe 1 and 3 similarity is: 0.498131\nthe 1 and 4 similarity is: 0.509974\nthe 2 and 0 similarity is: 0.552670\nthe 2 and 3 similarity is: 0.552976\nthe 2 and 4 similarity is: 0.217301\n"
     ]
    },
    {
     "output_type": "execute_result",
     "data": {
      "text/plain": [
       "[(2, 3.4177569186592387), (1, 3.3307171545585645)]"
      ]
     },
     "metadata": {},
     "execution_count": 15
    }
   ],
   "source": [
    "# test\n",
    "recommend(data,1,estMethod=svd)"
   ]
  },
  {
   "cell_type": "code",
   "execution_count": 16,
   "metadata": {},
   "outputs": [
    {
     "output_type": "execute_result",
     "data": {
      "text/plain": [
       "matrix([[4, 4, 0, 2, 2],\n",
       "        [4, 0, 0, 3, 3],\n",
       "        [4, 0, 0, 1, 1],\n",
       "        [1, 1, 1, 2, 0],\n",
       "        [2, 2, 2, 0, 0],\n",
       "        [5, 5, 5, 0, 0],\n",
       "        [1, 1, 1, 0, 0]])"
      ]
     },
     "metadata": {},
     "execution_count": 16
    }
   ],
   "source": [
    "data1"
   ]
  },
  {
   "cell_type": "code",
   "execution_count": null,
   "metadata": {},
   "outputs": [],
   "source": []
  }
 ]
}